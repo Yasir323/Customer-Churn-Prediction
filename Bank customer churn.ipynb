{
 "cells": [
  {
   "cell_type": "markdown",
   "metadata": {},
   "source": [
    "# Import libraries"
   ]
  },
  {
   "cell_type": "code",
   "execution_count": 1,
   "metadata": {},
   "outputs": [],
   "source": [
    "import os\n",
    "import numpy as np\n",
    "import matplotlib.pyplot as plt\n",
    "import pandas as pd\n",
    "from sklearn.preprocessing import LabelEncoder, OneHotEncoder, StandardScaler\n",
    "from sklearn.model_selection import train_test_split\n",
    "import keras\n",
    "from keras.models import Sequential\n",
    "from keras.layers import Dense\n",
    "from sklearn.compose import ColumnTransformer"
   ]
  },
  {
   "cell_type": "markdown",
   "metadata": {},
   "source": [
    "# Load dataset"
   ]
  },
  {
   "cell_type": "code",
   "execution_count": 2,
   "metadata": {},
   "outputs": [
    {
     "data": {
      "text/html": [
       "<div>\n",
       "<style scoped>\n",
       "    .dataframe tbody tr th:only-of-type {\n",
       "        vertical-align: middle;\n",
       "    }\n",
       "\n",
       "    .dataframe tbody tr th {\n",
       "        vertical-align: top;\n",
       "    }\n",
       "\n",
       "    .dataframe thead th {\n",
       "        text-align: right;\n",
       "    }\n",
       "</style>\n",
       "<table border=\"1\" class=\"dataframe\">\n",
       "  <thead>\n",
       "    <tr style=\"text-align: right;\">\n",
       "      <th></th>\n",
       "      <th>RowNumber</th>\n",
       "      <th>CustomerId</th>\n",
       "      <th>Surname</th>\n",
       "      <th>CreditScore</th>\n",
       "      <th>Geography</th>\n",
       "      <th>Gender</th>\n",
       "      <th>Age</th>\n",
       "      <th>Tenure</th>\n",
       "      <th>Balance</th>\n",
       "      <th>NumOfProducts</th>\n",
       "      <th>HasCrCard</th>\n",
       "      <th>IsActiveMember</th>\n",
       "      <th>EstimatedSalary</th>\n",
       "      <th>Exited</th>\n",
       "    </tr>\n",
       "  </thead>\n",
       "  <tbody>\n",
       "    <tr>\n",
       "      <th>0</th>\n",
       "      <td>1</td>\n",
       "      <td>15634602</td>\n",
       "      <td>Hargrave</td>\n",
       "      <td>619</td>\n",
       "      <td>France</td>\n",
       "      <td>Female</td>\n",
       "      <td>42</td>\n",
       "      <td>2</td>\n",
       "      <td>0.00</td>\n",
       "      <td>1</td>\n",
       "      <td>1</td>\n",
       "      <td>1</td>\n",
       "      <td>101348.88</td>\n",
       "      <td>1</td>\n",
       "    </tr>\n",
       "    <tr>\n",
       "      <th>1</th>\n",
       "      <td>2</td>\n",
       "      <td>15647311</td>\n",
       "      <td>Hill</td>\n",
       "      <td>608</td>\n",
       "      <td>Spain</td>\n",
       "      <td>Female</td>\n",
       "      <td>41</td>\n",
       "      <td>1</td>\n",
       "      <td>83807.86</td>\n",
       "      <td>1</td>\n",
       "      <td>0</td>\n",
       "      <td>1</td>\n",
       "      <td>112542.58</td>\n",
       "      <td>0</td>\n",
       "    </tr>\n",
       "    <tr>\n",
       "      <th>2</th>\n",
       "      <td>3</td>\n",
       "      <td>15619304</td>\n",
       "      <td>Onio</td>\n",
       "      <td>502</td>\n",
       "      <td>France</td>\n",
       "      <td>Female</td>\n",
       "      <td>42</td>\n",
       "      <td>8</td>\n",
       "      <td>159660.80</td>\n",
       "      <td>3</td>\n",
       "      <td>1</td>\n",
       "      <td>0</td>\n",
       "      <td>113931.57</td>\n",
       "      <td>1</td>\n",
       "    </tr>\n",
       "    <tr>\n",
       "      <th>3</th>\n",
       "      <td>4</td>\n",
       "      <td>15701354</td>\n",
       "      <td>Boni</td>\n",
       "      <td>699</td>\n",
       "      <td>France</td>\n",
       "      <td>Female</td>\n",
       "      <td>39</td>\n",
       "      <td>1</td>\n",
       "      <td>0.00</td>\n",
       "      <td>2</td>\n",
       "      <td>0</td>\n",
       "      <td>0</td>\n",
       "      <td>93826.63</td>\n",
       "      <td>0</td>\n",
       "    </tr>\n",
       "    <tr>\n",
       "      <th>4</th>\n",
       "      <td>5</td>\n",
       "      <td>15737888</td>\n",
       "      <td>Mitchell</td>\n",
       "      <td>850</td>\n",
       "      <td>Spain</td>\n",
       "      <td>Female</td>\n",
       "      <td>43</td>\n",
       "      <td>2</td>\n",
       "      <td>125510.82</td>\n",
       "      <td>1</td>\n",
       "      <td>1</td>\n",
       "      <td>1</td>\n",
       "      <td>79084.10</td>\n",
       "      <td>0</td>\n",
       "    </tr>\n",
       "  </tbody>\n",
       "</table>\n",
       "</div>"
      ],
      "text/plain": [
       "   RowNumber  CustomerId   Surname  CreditScore Geography  Gender  Age  \\\n",
       "0          1    15634602  Hargrave          619    France  Female   42   \n",
       "1          2    15647311      Hill          608     Spain  Female   41   \n",
       "2          3    15619304      Onio          502    France  Female   42   \n",
       "3          4    15701354      Boni          699    France  Female   39   \n",
       "4          5    15737888  Mitchell          850     Spain  Female   43   \n",
       "\n",
       "   Tenure    Balance  NumOfProducts  HasCrCard  IsActiveMember  \\\n",
       "0       2       0.00              1          1               1   \n",
       "1       1   83807.86              1          0               1   \n",
       "2       8  159660.80              3          1               0   \n",
       "3       1       0.00              2          0               0   \n",
       "4       2  125510.82              1          1               1   \n",
       "\n",
       "   EstimatedSalary  Exited  \n",
       "0        101348.88       1  \n",
       "1        112542.58       0  \n",
       "2        113931.57       1  \n",
       "3         93826.63       0  \n",
       "4         79084.10       0  "
      ]
     },
     "execution_count": 2,
     "metadata": {},
     "output_type": "execute_result"
    }
   ],
   "source": [
    "filename = 'Churn_Modelling.csv'\n",
    "path = os.path.join('Volume 1 - Supervised Deep Learning', \n",
    "                    'Part 1 - Artificial Neural Networks (ANN)',\n",
    "                    'Section 4 - Building an ANN',\n",
    "                     filename)\n",
    "data = pd.read_csv(path)\n",
    "data.head()"
   ]
  },
  {
   "cell_type": "markdown",
   "metadata": {},
   "source": [
    "# Selecting features and labels"
   ]
  },
  {
   "cell_type": "code",
   "execution_count": 3,
   "metadata": {},
   "outputs": [],
   "source": [
    "X = data.iloc[:, 3:13].values\n",
    "y = data.iloc[:, 13].values"
   ]
  },
  {
   "cell_type": "code",
   "execution_count": 4,
   "metadata": {},
   "outputs": [
    {
     "data": {
      "text/plain": [
       "array([[619, 'France', 'Female', 42, 2, 0.0, 1, 1, 1, 101348.88],\n",
       "       [608, 'Spain', 'Female', 41, 1, 83807.86, 1, 0, 1, 112542.58],\n",
       "       [502, 'France', 'Female', 42, 8, 159660.8, 3, 1, 0, 113931.57],\n",
       "       [699, 'France', 'Female', 39, 1, 0.0, 2, 0, 0, 93826.63],\n",
       "       [850, 'Spain', 'Female', 43, 2, 125510.82, 1, 1, 1, 79084.1]],\n",
       "      dtype=object)"
      ]
     },
     "execution_count": 4,
     "metadata": {},
     "output_type": "execute_result"
    }
   ],
   "source": [
    "X[:5]"
   ]
  },
  {
   "cell_type": "code",
   "execution_count": 5,
   "metadata": {},
   "outputs": [
    {
     "data": {
      "text/plain": [
       "array([1, 0, 1, 0, 0], dtype=int64)"
      ]
     },
     "execution_count": 5,
     "metadata": {},
     "output_type": "execute_result"
    }
   ],
   "source": [
    "y[:5]"
   ]
  },
  {
   "cell_type": "markdown",
   "metadata": {},
   "source": [
    "# Encoding categorical data"
   ]
  },
  {
   "cell_type": "code",
   "execution_count": 6,
   "metadata": {},
   "outputs": [],
   "source": [
    "enc = LabelEncoder()\n",
    "X[:, 2] = enc.fit_transform(X[:, 2])"
   ]
  },
  {
   "cell_type": "code",
   "execution_count": 7,
   "metadata": {},
   "outputs": [],
   "source": [
    "ct = ColumnTransformer([(\"Country\", OneHotEncoder(), [1])], remainder = 'passthrough')\n",
    "X = ct.fit_transform(X)"
   ]
  },
  {
   "cell_type": "code",
   "execution_count": 8,
   "metadata": {},
   "outputs": [
    {
     "data": {
      "text/plain": [
       "array([[1.0, 0.0, 0.0, 619, 0, 42, 2, 0.0, 1, 1, 1, 101348.88],\n",
       "       [0.0, 0.0, 1.0, 608, 0, 41, 1, 83807.86, 1, 0, 1, 112542.58],\n",
       "       [1.0, 0.0, 0.0, 502, 0, 42, 8, 159660.8, 3, 1, 0, 113931.57],\n",
       "       [1.0, 0.0, 0.0, 699, 0, 39, 1, 0.0, 2, 0, 0, 93826.63],\n",
       "       [0.0, 0.0, 1.0, 850, 0, 43, 2, 125510.82, 1, 1, 1, 79084.1]],\n",
       "      dtype=object)"
      ]
     },
     "execution_count": 8,
     "metadata": {},
     "output_type": "execute_result"
    }
   ],
   "source": [
    "X[:5]"
   ]
  },
  {
   "cell_type": "markdown",
   "metadata": {},
   "source": [
    "To avoid ***Dummy Variable*** trap we'll drop the first column. We could also have passed `drop='first'` argument to the `OneHotEncoder(drop='first')`"
   ]
  },
  {
   "cell_type": "code",
   "execution_count": 9,
   "metadata": {},
   "outputs": [],
   "source": [
    "X = X[:, 1:]"
   ]
  },
  {
   "cell_type": "markdown",
   "metadata": {},
   "source": [
    "# Train test split"
   ]
  },
  {
   "cell_type": "code",
   "execution_count": 10,
   "metadata": {},
   "outputs": [],
   "source": [
    "X_train, X_test, y_train, y_test = train_test_split(X, y, \n",
    "                                    test_size=0.2, random_state=0)"
   ]
  },
  {
   "cell_type": "markdown",
   "metadata": {},
   "source": [
    "# Feature Scaling"
   ]
  },
  {
   "cell_type": "code",
   "execution_count": 11,
   "metadata": {},
   "outputs": [],
   "source": [
    "sc = StandardScaler()\n",
    "X_train = sc.fit_transform(X_train)\n",
    "X_test = sc.transform(X_test)"
   ]
  },
  {
   "cell_type": "code",
   "execution_count": 12,
   "metadata": {},
   "outputs": [
    {
     "data": {
      "text/plain": [
       "(8000, 11)"
      ]
     },
     "execution_count": 12,
     "metadata": {},
     "output_type": "execute_result"
    }
   ],
   "source": [
    "X_train.shape"
   ]
  },
  {
   "cell_type": "code",
   "execution_count": 13,
   "metadata": {},
   "outputs": [
    {
     "data": {
      "text/plain": [
       "(2000, 11)"
      ]
     },
     "execution_count": 13,
     "metadata": {},
     "output_type": "execute_result"
    }
   ],
   "source": [
    "X_test.shape"
   ]
  },
  {
   "cell_type": "code",
   "execution_count": 14,
   "metadata": {},
   "outputs": [],
   "source": [
    "classifier = Sequential()"
   ]
  },
  {
   "cell_type": "code",
   "execution_count": 15,
   "metadata": {},
   "outputs": [],
   "source": [
    "# First Hidden Layer\n",
    "classifier.add(Dense(units=6, kernel_initializer='uniform',\n",
    "                    activation='relu', input_dim=11))"
   ]
  },
  {
   "cell_type": "code",
   "execution_count": 16,
   "metadata": {},
   "outputs": [],
   "source": [
    "# Second Hidden Layer\n",
    "classifier.add(Dense(units=6, kernel_initializer='uniform',\n",
    "                    activation='relu'))"
   ]
  },
  {
   "cell_type": "code",
   "execution_count": 17,
   "metadata": {},
   "outputs": [],
   "source": [
    "# Output Layer\n",
    "classifier.add(Dense(units=1, kernel_initializer='uniform',\n",
    "                    activation='sigmoid'))"
   ]
  },
  {
   "cell_type": "markdown",
   "metadata": {},
   "source": [
    "# Train the model"
   ]
  },
  {
   "cell_type": "code",
   "execution_count": 18,
   "metadata": {},
   "outputs": [],
   "source": [
    "classifier.compile(optimizer='adam', loss='binary_crossentropy', metrics=['accuracy'])\n",
    "# categorical_crossentropy for multiclass classification"
   ]
  },
  {
   "cell_type": "code",
   "execution_count": 19,
   "metadata": {},
   "outputs": [
    {
     "name": "stdout",
     "output_type": "stream",
     "text": [
      "Epoch 1/100\n",
      "800/800 [==============================] - 1s 899us/step - loss: 0.4981 - accuracy: 0.7958\n",
      "Epoch 2/100\n",
      "800/800 [==============================] - 1s 873us/step - loss: 0.4304 - accuracy: 0.7960\n",
      "Epoch 3/100\n",
      "800/800 [==============================] - 1s 864us/step - loss: 0.4247 - accuracy: 0.7987\n",
      "Epoch 4/100\n",
      "800/800 [==============================] - 1s 864us/step - loss: 0.4187 - accuracy: 0.8231\n",
      "Epoch 5/100\n",
      "800/800 [==============================] - 1s 874us/step - loss: 0.4133 - accuracy: 0.8306\n",
      "Epoch 6/100\n",
      "800/800 [==============================] - 1s 893us/step - loss: 0.4090 - accuracy: 0.8303\n",
      "Epoch 7/100\n",
      "800/800 [==============================] - 1s 865us/step - loss: 0.4057 - accuracy: 0.8324\n",
      "Epoch 8/100\n",
      "800/800 [==============================] - 1s 869us/step - loss: 0.4039 - accuracy: 0.8351\n",
      "Epoch 9/100\n",
      "800/800 [==============================] - 1s 870us/step - loss: 0.4022 - accuracy: 0.8346\n",
      "Epoch 10/100\n",
      "800/800 [==============================] - 1s 865us/step - loss: 0.4008 - accuracy: 0.8354\n",
      "Epoch 11/100\n",
      "800/800 [==============================] - 1s 865us/step - loss: 0.4001 - accuracy: 0.8344\n",
      "Epoch 12/100\n",
      "800/800 [==============================] - 1s 865us/step - loss: 0.3989 - accuracy: 0.8346\n",
      "Epoch 13/100\n",
      "800/800 [==============================] - 1s 874us/step - loss: 0.3984 - accuracy: 0.8359\n",
      "Epoch 14/100\n",
      "800/800 [==============================] - 1s 860us/step - loss: 0.3980 - accuracy: 0.8347\n",
      "Epoch 15/100\n",
      "800/800 [==============================] - 1s 896us/step - loss: 0.3972 - accuracy: 0.8357\n",
      "Epoch 16/100\n",
      "800/800 [==============================] - 1s 861us/step - loss: 0.3972 - accuracy: 0.8363\n",
      "Epoch 17/100\n",
      "800/800 [==============================] - 1s 869us/step - loss: 0.3965 - accuracy: 0.8366\n",
      "Epoch 18/100\n",
      "800/800 [==============================] - 1s 889us/step - loss: 0.3953 - accuracy: 0.8384\n",
      "Epoch 19/100\n",
      "800/800 [==============================] - 1s 971us/step - loss: 0.3937 - accuracy: 0.8379\n",
      "Epoch 20/100\n",
      "800/800 [==============================] - 1s 933us/step - loss: 0.3909 - accuracy: 0.8394\n",
      "Epoch 21/100\n",
      "800/800 [==============================] - 1s 906us/step - loss: 0.3891 - accuracy: 0.8403\n",
      "Epoch 22/100\n",
      "800/800 [==============================] - 1s 871us/step - loss: 0.3855 - accuracy: 0.8406\n",
      "Epoch 23/100\n",
      "800/800 [==============================] - 1s 881us/step - loss: 0.3828 - accuracy: 0.8413\n",
      "Epoch 24/100\n",
      "800/800 [==============================] - 1s 858us/step - loss: 0.3794 - accuracy: 0.8431\n",
      "Epoch 25/100\n",
      "800/800 [==============================] - 1s 886us/step - loss: 0.3769 - accuracy: 0.8420\n",
      "Epoch 26/100\n",
      "800/800 [==============================] - 1s 880us/step - loss: 0.3755 - accuracy: 0.8432\n",
      "Epoch 27/100\n",
      "800/800 [==============================] - 1s 880us/step - loss: 0.3724 - accuracy: 0.8436\n",
      "Epoch 28/100\n",
      "800/800 [==============================] - 1s 865us/step - loss: 0.3701 - accuracy: 0.8444\n",
      "Epoch 29/100\n",
      "800/800 [==============================] - 1s 883us/step - loss: 0.3677 - accuracy: 0.8471\n",
      "Epoch 30/100\n",
      "800/800 [==============================] - 1s 871us/step - loss: 0.3643 - accuracy: 0.8489\n",
      "Epoch 31/100\n",
      "800/800 [==============================] - 1s 870us/step - loss: 0.3613 - accuracy: 0.8511\n",
      "Epoch 32/100\n",
      "800/800 [==============================] - 1s 881us/step - loss: 0.3585 - accuracy: 0.8518\n",
      "Epoch 33/100\n",
      "800/800 [==============================] - 1s 871us/step - loss: 0.3556 - accuracy: 0.8539\n",
      "Epoch 34/100\n",
      "800/800 [==============================] - 1s 873us/step - loss: 0.3551 - accuracy: 0.8556\n",
      "Epoch 35/100\n",
      "800/800 [==============================] - 1s 866us/step - loss: 0.3531 - accuracy: 0.8547\n",
      "Epoch 36/100\n",
      "800/800 [==============================] - 1s 878us/step - loss: 0.3527 - accuracy: 0.8551\n",
      "Epoch 37/100\n",
      "800/800 [==============================] - 1s 869us/step - loss: 0.3502 - accuracy: 0.8577\n",
      "Epoch 38/100\n",
      "800/800 [==============================] - 1s 896us/step - loss: 0.3495 - accuracy: 0.8547\n",
      "Epoch 39/100\n",
      "800/800 [==============================] - 1s 894us/step - loss: 0.3495 - accuracy: 0.8544\n",
      "Epoch 40/100\n",
      "800/800 [==============================] - 1s 873us/step - loss: 0.3480 - accuracy: 0.8574\n",
      "Epoch 41/100\n",
      "800/800 [==============================] - 1s 856us/step - loss: 0.3471 - accuracy: 0.8570\n",
      "Epoch 42/100\n",
      "800/800 [==============================] - 1s 875us/step - loss: 0.3460 - accuracy: 0.8579\n",
      "Epoch 43/100\n",
      "800/800 [==============================] - 1s 864us/step - loss: 0.3471 - accuracy: 0.8572\n",
      "Epoch 44/100\n",
      "800/800 [==============================] - 1s 879us/step - loss: 0.3459 - accuracy: 0.8572\n",
      "Epoch 45/100\n",
      "800/800 [==============================] - 1s 879us/step - loss: 0.3463 - accuracy: 0.8571\n",
      "Epoch 46/100\n",
      "800/800 [==============================] - 1s 866us/step - loss: 0.3457 - accuracy: 0.8599\n",
      "Epoch 47/100\n",
      "800/800 [==============================] - 1s 884us/step - loss: 0.3453 - accuracy: 0.8579\n",
      "Epoch 48/100\n",
      "800/800 [==============================] - 1s 894us/step - loss: 0.3456 - accuracy: 0.8574\n",
      "Epoch 49/100\n",
      "800/800 [==============================] - 1s 870us/step - loss: 0.3450 - accuracy: 0.8599\n",
      "Epoch 50/100\n",
      "800/800 [==============================] - 1s 931us/step - loss: 0.3444 - accuracy: 0.8605\n",
      "Epoch 51/100\n",
      "800/800 [==============================] - 1s 936us/step - loss: 0.3427 - accuracy: 0.8620\n",
      "Epoch 52/100\n",
      "800/800 [==============================] - 1s 879us/step - loss: 0.3444 - accuracy: 0.8622\n",
      "Epoch 53/100\n",
      "800/800 [==============================] - 1s 865us/step - loss: 0.3433 - accuracy: 0.8577\n",
      "Epoch 54/100\n",
      "800/800 [==============================] - 1s 934us/step - loss: 0.3433 - accuracy: 0.8599\n",
      "Epoch 55/100\n",
      "800/800 [==============================] - 1s 1ms/step - loss: 0.3434 - accuracy: 0.8599\n",
      "Epoch 56/100\n",
      "800/800 [==============================] - 1s 1ms/step - loss: 0.3430 - accuracy: 0.8612\n",
      "Epoch 57/100\n",
      "800/800 [==============================] - 1s 1ms/step - loss: 0.3433 - accuracy: 0.8604\n",
      "Epoch 58/100\n",
      "800/800 [==============================] - 1s 1ms/step - loss: 0.3446 - accuracy: 0.8597\n",
      "Epoch 59/100\n",
      "800/800 [==============================] - 1s 889us/step - loss: 0.3429 - accuracy: 0.8581\n",
      "Epoch 60/100\n",
      "800/800 [==============================] - 1s 900us/step - loss: 0.3425 - accuracy: 0.8601\n",
      "Epoch 61/100\n",
      "800/800 [==============================] - 1s 1ms/step - loss: 0.3426 - accuracy: 0.8610\n",
      "Epoch 62/100\n",
      "800/800 [==============================] - 1s 1ms/step - loss: 0.3428 - accuracy: 0.8604\n",
      "Epoch 63/100\n",
      "800/800 [==============================] - 1s 1ms/step - loss: 0.3434 - accuracy: 0.8576\n",
      "Epoch 64/100\n",
      "800/800 [==============================] - 1s 975us/step - loss: 0.3433 - accuracy: 0.8572\n",
      "Epoch 65/100\n",
      "800/800 [==============================] - 1s 918us/step - loss: 0.3418 - accuracy: 0.8596\n",
      "Epoch 66/100\n",
      "800/800 [==============================] - 1s 1ms/step - loss: 0.3427 - accuracy: 0.8577\n",
      "Epoch 67/100\n",
      "800/800 [==============================] - 1s 1ms/step - loss: 0.3428 - accuracy: 0.8602\n",
      "Epoch 68/100\n",
      "800/800 [==============================] - 1s 1ms/step - loss: 0.3433 - accuracy: 0.8575\n",
      "Epoch 69/100\n",
      "800/800 [==============================] - 1s 865us/step - loss: 0.3423 - accuracy: 0.8602\n",
      "Epoch 70/100\n",
      "800/800 [==============================] - 1s 896us/step - loss: 0.3424 - accuracy: 0.8602\n",
      "Epoch 71/100\n",
      "800/800 [==============================] - 1s 864us/step - loss: 0.3429 - accuracy: 0.8589\n",
      "Epoch 72/100\n",
      "800/800 [==============================] - 1s 874us/step - loss: 0.3427 - accuracy: 0.8604\n",
      "Epoch 73/100\n",
      "800/800 [==============================] - 1s 1ms/step - loss: 0.3422 - accuracy: 0.8601\n",
      "Epoch 74/100\n",
      "800/800 [==============================] - 1s 909us/step - loss: 0.3426 - accuracy: 0.8601\n",
      "Epoch 75/100\n",
      "800/800 [==============================] - 1s 915us/step - loss: 0.3427 - accuracy: 0.8583\n",
      "Epoch 76/100\n",
      "800/800 [==============================] - 1s 928us/step - loss: 0.3419 - accuracy: 0.8606\n",
      "Epoch 77/100\n",
      "800/800 [==============================] - 1s 893us/step - loss: 0.3424 - accuracy: 0.8611\n",
      "Epoch 78/100\n",
      "800/800 [==============================] - 1s 935us/step - loss: 0.3421 - accuracy: 0.8600\n",
      "Epoch 79/100\n",
      "800/800 [==============================] - 1s 948us/step - loss: 0.3422 - accuracy: 0.8596\n",
      "Epoch 80/100\n"
     ]
    },
    {
     "name": "stdout",
     "output_type": "stream",
     "text": [
      "800/800 [==============================] - 1s 908us/step - loss: 0.3417 - accuracy: 0.8596\n",
      "Epoch 81/100\n",
      "800/800 [==============================] - 1s 893us/step - loss: 0.3421 - accuracy: 0.8605\n",
      "Epoch 82/100\n",
      "800/800 [==============================] - 1s 910us/step - loss: 0.3421 - accuracy: 0.8560\n",
      "Epoch 83/100\n",
      "800/800 [==============================] - 1s 968us/step - loss: 0.3417 - accuracy: 0.8601\n",
      "Epoch 84/100\n",
      "800/800 [==============================] - 1s 979us/step - loss: 0.3422 - accuracy: 0.8574\n",
      "Epoch 85/100\n",
      "800/800 [==============================] - 1s 896us/step - loss: 0.3414 - accuracy: 0.8602\n",
      "Epoch 86/100\n",
      "800/800 [==============================] - 1s 944us/step - loss: 0.3417 - accuracy: 0.8605\n",
      "Epoch 87/100\n",
      "800/800 [==============================] - 1s 865us/step - loss: 0.3427 - accuracy: 0.8610\n",
      "Epoch 88/100\n",
      "800/800 [==============================] - 1s 978us/step - loss: 0.3429 - accuracy: 0.8621\n",
      "Epoch 89/100\n",
      "800/800 [==============================] - 1s 935us/step - loss: 0.3411 - accuracy: 0.8610\n",
      "Epoch 90/100\n",
      "800/800 [==============================] - 1s 1ms/step - loss: 0.3423 - accuracy: 0.8602\n",
      "Epoch 91/100\n",
      "800/800 [==============================] - 1s 1ms/step - loss: 0.3406 - accuracy: 0.8621\n",
      "Epoch 92/100\n",
      "800/800 [==============================] - 1s 905us/step - loss: 0.3418 - accuracy: 0.8609\n",
      "Epoch 93/100\n",
      "800/800 [==============================] - 1s 908us/step - loss: 0.3417 - accuracy: 0.8586\n",
      "Epoch 94/100\n",
      "800/800 [==============================] - 1s 871us/step - loss: 0.3418 - accuracy: 0.8606\n",
      "Epoch 95/100\n",
      "800/800 [==============================] - 1s 861us/step - loss: 0.3427 - accuracy: 0.8595\n",
      "Epoch 96/100\n",
      "800/800 [==============================] - 1s 879us/step - loss: 0.3419 - accuracy: 0.8608\n",
      "Epoch 97/100\n",
      "800/800 [==============================] - 1s 864us/step - loss: 0.3407 - accuracy: 0.8624\n",
      "Epoch 98/100\n",
      "800/800 [==============================] - 1s 884us/step - loss: 0.3415 - accuracy: 0.8596\n",
      "Epoch 99/100\n",
      "800/800 [==============================] - 1s 864us/step - loss: 0.3419 - accuracy: 0.8575\n",
      "Epoch 100/100\n",
      "800/800 [==============================] - 1s 913us/step - loss: 0.3416 - accuracy: 0.8610\n"
     ]
    },
    {
     "data": {
      "text/plain": [
       "<tensorflow.python.keras.callbacks.History at 0x2881003a1c0>"
      ]
     },
     "execution_count": 19,
     "metadata": {},
     "output_type": "execute_result"
    }
   ],
   "source": [
    "classifier.fit(X_train, y_train, batch_size=10, epochs=100)"
   ]
  },
  {
   "cell_type": "code",
   "execution_count": 20,
   "metadata": {},
   "outputs": [],
   "source": [
    "y_pred = classifier.predict(X_test)"
   ]
  },
  {
   "cell_type": "code",
   "execution_count": 21,
   "metadata": {},
   "outputs": [],
   "source": [
    "y_pred = (y_pred > 0.5)"
   ]
  },
  {
   "cell_type": "code",
   "execution_count": 22,
   "metadata": {},
   "outputs": [
    {
     "name": "stdout",
     "output_type": "stream",
     "text": [
      "[[1532   63]\n",
      " [ 212  193]]\n"
     ]
    }
   ],
   "source": [
    "from sklearn.metrics import confusion_matrix, classification_report\n",
    "cm = confusion_matrix(y_test, y_pred)\n",
    "print(cm)"
   ]
  },
  {
   "cell_type": "code",
   "execution_count": 23,
   "metadata": {},
   "outputs": [
    {
     "name": "stdout",
     "output_type": "stream",
     "text": [
      "              precision    recall  f1-score   support\n",
      "\n",
      "           0       0.88      0.96      0.92      1595\n",
      "           1       0.75      0.48      0.58       405\n",
      "\n",
      "    accuracy                           0.86      2000\n",
      "   macro avg       0.82      0.72      0.75      2000\n",
      "weighted avg       0.85      0.86      0.85      2000\n",
      "\n"
     ]
    }
   ],
   "source": [
    "print(classification_report(y_test, y_pred))"
   ]
  },
  {
   "cell_type": "markdown",
   "metadata": {},
   "source": [
    "# New Customer"
   ]
  },
  {
   "cell_type": "code",
   "execution_count": 24,
   "metadata": {},
   "outputs": [],
   "source": [
    "new_prediction = classifier.predict(sc.transform(np.array([[0.0, 0, 600, 1, 40, 3, 60000, 2, 1, 1, 50000]])))\n",
    "new_prediction = (new_prediction > 0.5)"
   ]
  },
  {
   "cell_type": "code",
   "execution_count": 25,
   "metadata": {},
   "outputs": [
    {
     "data": {
      "text/plain": [
       "array([[False]])"
      ]
     },
     "execution_count": 25,
     "metadata": {},
     "output_type": "execute_result"
    }
   ],
   "source": [
    "new_prediction"
   ]
  },
  {
   "cell_type": "markdown",
   "metadata": {},
   "source": [
    "# Improving the model"
   ]
  },
  {
   "cell_type": "markdown",
   "metadata": {},
   "source": [
    "## k-Fold cross validation\n",
    "The model has been trained on Keras and the k-Fold Cross Validation belongs to Scikit-Leaern, therefore to combine the functionalitties of both we'll need to use Keras wrapper."
   ]
  },
  {
   "cell_type": "code",
   "execution_count": 26,
   "metadata": {},
   "outputs": [],
   "source": [
    "from keras.wrappers.scikit_learn import KerasClassifier\n",
    "from sklearn.model_selection import cross_val_score"
   ]
  },
  {
   "cell_type": "code",
   "execution_count": 27,
   "metadata": {},
   "outputs": [],
   "source": [
    "def build_classifier():\n",
    "    classifier = Sequential()\n",
    "    classifier.add(Dense(units=6, kernel_initializer='uniform',\n",
    "                    activation='relu', input_dim=11))\n",
    "    classifier.add(Dense(units=6, kernel_initializer='uniform',\n",
    "                    activation='relu'))\n",
    "    classifier.add(Dense(units=1, kernel_initializer='uniform',\n",
    "                    activation='sigmoid'))\n",
    "    classifier.compile(optimizer='adam', loss='binary_crossentropy',\n",
    "                       metrics=['accuracy'])\n",
    "    return classifier"
   ]
  },
  {
   "cell_type": "code",
   "execution_count": 28,
   "metadata": {},
   "outputs": [],
   "source": [
    "classifier = KerasClassifier(build_fn=build_classifier,\n",
    "                            batch_size=10, nb_epoch=15)"
   ]
  },
  {
   "cell_type": "code",
   "execution_count": 29,
   "metadata": {},
   "outputs": [],
   "source": [
    "accuracies = cross_val_score(estimator=classifier, X=X_train,\n",
    "                             y=y_train, cv=10, n_jobs=-1)"
   ]
  },
  {
   "cell_type": "code",
   "execution_count": 30,
   "metadata": {},
   "outputs": [
    {
     "data": {
      "text/plain": [
       "array([0.78625   , 0.79000002, 0.80000001, 0.78250003, 0.81625003,\n",
       "       0.81      , 0.78750002, 0.79374999, 0.79874998, 0.79500002])"
      ]
     },
     "execution_count": 30,
     "metadata": {},
     "output_type": "execute_result"
    }
   ],
   "source": [
    "accuracies"
   ]
  },
  {
   "cell_type": "code",
   "execution_count": 31,
   "metadata": {},
   "outputs": [
    {
     "data": {
      "text/plain": [
       "0.7960000097751617"
      ]
     },
     "execution_count": 31,
     "metadata": {},
     "output_type": "execute_result"
    }
   ],
   "source": [
    "mean = accuracies.mean()\n",
    "mean"
   ]
  },
  {
   "cell_type": "code",
   "execution_count": 32,
   "metadata": {},
   "outputs": [
    {
     "data": {
      "text/plain": [
       "0.010105690527913859"
      ]
     },
     "execution_count": 32,
     "metadata": {},
     "output_type": "execute_result"
    }
   ],
   "source": [
    "variance = accuracies.std()\n",
    "variance"
   ]
  },
  {
   "cell_type": "markdown",
   "metadata": {},
   "source": [
    "## Tackle overfitting"
   ]
  },
  {
   "cell_type": "code",
   "execution_count": 33,
   "metadata": {},
   "outputs": [],
   "source": [
    "from keras.layers import Dropout\n",
    "# Dropout is appplied to neurons so that they are disabled"
   ]
  },
  {
   "cell_type": "code",
   "execution_count": 34,
   "metadata": {},
   "outputs": [
    {
     "name": "stdout",
     "output_type": "stream",
     "text": [
      "Epoch 1/100\n",
      "800/800 [==============================] - 1s 903us/step - loss: 0.4953 - accuracy: 0.7952\n",
      "Epoch 2/100\n",
      "800/800 [==============================] - 1s 876us/step - loss: 0.4267 - accuracy: 0.8166\n",
      "Epoch 3/100\n",
      "800/800 [==============================] - 1s 911us/step - loss: 0.4199 - accuracy: 0.8185\n",
      "Epoch 4/100\n",
      "800/800 [==============================] - 1s 925us/step - loss: 0.4167 - accuracy: 0.8224\n",
      "Epoch 5/100\n",
      "800/800 [==============================] - 1s 903us/step - loss: 0.4108 - accuracy: 0.8245\n",
      "Epoch 6/100\n",
      "800/800 [==============================] - 1s 910us/step - loss: 0.4061 - accuracy: 0.8214\n",
      "Epoch 7/100\n",
      "800/800 [==============================] - 1s 916us/step - loss: 0.4050 - accuracy: 0.8219\n",
      "Epoch 8/100\n",
      "800/800 [==============================] - 1s 916us/step - loss: 0.4044 - accuracy: 0.8211\n",
      "Epoch 9/100\n",
      "800/800 [==============================] - 1s 921us/step - loss: 0.4026 - accuracy: 0.8234\n",
      "Epoch 10/100\n",
      "800/800 [==============================] - 1s 913us/step - loss: 0.4018 - accuracy: 0.8241\n",
      "Epoch 11/100\n",
      "800/800 [==============================] - 1s 910us/step - loss: 0.3996 - accuracy: 0.8255\n",
      "Epoch 12/100\n",
      "800/800 [==============================] - 1s 888us/step - loss: 0.3986 - accuracy: 0.8303\n",
      "Epoch 13/100\n",
      "800/800 [==============================] - 1s 880us/step - loss: 0.3978 - accuracy: 0.8338\n",
      "Epoch 14/100\n",
      "800/800 [==============================] - ETA: 0s - loss: 0.3985 - accuracy: 0.83 - 1s 904us/step - loss: 0.3982 - accuracy: 0.8310\n",
      "Epoch 15/100\n",
      "800/800 [==============================] - 1s 905us/step - loss: 0.3947 - accuracy: 0.8384\n",
      "Epoch 16/100\n",
      "800/800 [==============================] - 1s 936us/step - loss: 0.3972 - accuracy: 0.8328\n",
      "Epoch 17/100\n",
      "800/800 [==============================] - 1s 905us/step - loss: 0.3969 - accuracy: 0.8359\n",
      "Epoch 18/100\n",
      "800/800 [==============================] - 1s 938us/step - loss: 0.3953 - accuracy: 0.8345\n",
      "Epoch 19/100\n",
      "800/800 [==============================] - 1s 920us/step - loss: 0.3931 - accuracy: 0.8366\n",
      "Epoch 20/100\n",
      "800/800 [==============================] - 1s 899us/step - loss: 0.3956 - accuracy: 0.8354\n",
      "Epoch 21/100\n",
      "800/800 [==============================] - 1s 930us/step - loss: 0.3919 - accuracy: 0.8345\n",
      "Epoch 22/100\n",
      "800/800 [==============================] - 1s 944us/step - loss: 0.3885 - accuracy: 0.8409\n",
      "Epoch 23/100\n",
      "800/800 [==============================] - 1s 940us/step - loss: 0.3876 - accuracy: 0.8351\n",
      "Epoch 24/100\n",
      "800/800 [==============================] - 1s 889us/step - loss: 0.3904 - accuracy: 0.8371\n",
      "Epoch 25/100\n",
      "800/800 [==============================] - 1s 956us/step - loss: 0.3931 - accuracy: 0.8347\n",
      "Epoch 26/100\n",
      "800/800 [==============================] - ETA: 0s - loss: 0.3915 - accuracy: 0.83 - 1s 908us/step - loss: 0.3904 - accuracy: 0.8355\n",
      "Epoch 27/100\n",
      "800/800 [==============================] - 1s 911us/step - loss: 0.3904 - accuracy: 0.8394\n",
      "Epoch 28/100\n",
      "800/800 [==============================] - 1s 915us/step - loss: 0.3894 - accuracy: 0.8400\n",
      "Epoch 29/100\n",
      "800/800 [==============================] - 1s 948us/step - loss: 0.3898 - accuracy: 0.8367\n",
      "Epoch 30/100\n",
      "800/800 [==============================] - 1s 914us/step - loss: 0.3895 - accuracy: 0.8388\n",
      "Epoch 31/100\n",
      "800/800 [==============================] - 1s 911us/step - loss: 0.3822 - accuracy: 0.8430\n",
      "Epoch 32/100\n",
      "800/800 [==============================] - 1s 905us/step - loss: 0.3875 - accuracy: 0.8391\n",
      "Epoch 33/100\n",
      "800/800 [==============================] - 1s 944us/step - loss: 0.3936 - accuracy: 0.8344\n",
      "Epoch 34/100\n",
      "800/800 [==============================] - 1s 914us/step - loss: 0.3915 - accuracy: 0.8379\n",
      "Epoch 35/100\n",
      "800/800 [==============================] - 1s 936us/step - loss: 0.3876 - accuracy: 0.8369\n",
      "Epoch 36/100\n",
      "800/800 [==============================] - 1s 893us/step - loss: 0.3905 - accuracy: 0.8379\n",
      "Epoch 37/100\n",
      "800/800 [==============================] - 1s 904us/step - loss: 0.3852 - accuracy: 0.8357\n",
      "Epoch 38/100\n",
      "800/800 [==============================] - 1s 919us/step - loss: 0.3881 - accuracy: 0.8396\n",
      "Epoch 39/100\n",
      "800/800 [==============================] - 1s 949us/step - loss: 0.3833 - accuracy: 0.8369\n",
      "Epoch 40/100\n",
      "800/800 [==============================] - 1s 910us/step - loss: 0.3850 - accuracy: 0.8404\n",
      "Epoch 41/100\n",
      "800/800 [==============================] - 1s 923us/step - loss: 0.3901 - accuracy: 0.8388\n",
      "Epoch 42/100\n",
      "800/800 [==============================] - 1s 930us/step - loss: 0.3855 - accuracy: 0.8420\n",
      "Epoch 43/100\n",
      "800/800 [==============================] - 1s 889us/step - loss: 0.3887 - accuracy: 0.8354\n",
      "Epoch 44/100\n",
      "800/800 [==============================] - 1s 906us/step - loss: 0.3865 - accuracy: 0.8399\n",
      "Epoch 45/100\n",
      "800/800 [==============================] - 1s 919us/step - loss: 0.3893 - accuracy: 0.8374\n",
      "Epoch 46/100\n",
      "800/800 [==============================] - 1s 920us/step - loss: 0.3870 - accuracy: 0.8375\n",
      "Epoch 47/100\n",
      "800/800 [==============================] - 1s 900us/step - loss: 0.3872 - accuracy: 0.8397\n",
      "Epoch 48/100\n",
      "800/800 [==============================] - 1s 910us/step - loss: 0.3893 - accuracy: 0.8389\n",
      "Epoch 49/100\n",
      "800/800 [==============================] - 1s 920us/step - loss: 0.3833 - accuracy: 0.8386\n",
      "Epoch 50/100\n",
      "800/800 [==============================] - 1s 925us/step - loss: 0.3890 - accuracy: 0.8394\n",
      "Epoch 51/100\n",
      "800/800 [==============================] - 1s 905us/step - loss: 0.3833 - accuracy: 0.8416\n",
      "Epoch 52/100\n",
      "800/800 [==============================] - 1s 923us/step - loss: 0.3883 - accuracy: 0.8375\n",
      "Epoch 53/100\n",
      "800/800 [==============================] - 1s 964us/step - loss: 0.3895 - accuracy: 0.8360\n",
      "Epoch 54/100\n",
      "800/800 [==============================] - 1s 1ms/step - loss: 0.3850 - accuracy: 0.8403\n",
      "Epoch 55/100\n",
      "800/800 [==============================] - 1s 890us/step - loss: 0.3849 - accuracy: 0.8411\n",
      "Epoch 56/100\n",
      "800/800 [==============================] - 1s 945us/step - loss: 0.3875 - accuracy: 0.8401\n",
      "Epoch 57/100\n",
      "800/800 [==============================] - 1s 915us/step - loss: 0.3825 - accuracy: 0.8388\n",
      "Epoch 58/100\n",
      "800/800 [==============================] - 1s 916us/step - loss: 0.3913 - accuracy: 0.8393\n",
      "Epoch 59/100\n",
      "800/800 [==============================] - 1s 916us/step - loss: 0.3918 - accuracy: 0.8369\n",
      "Epoch 60/100\n",
      "800/800 [==============================] - 1s 924us/step - loss: 0.3892 - accuracy: 0.8382\n",
      "Epoch 61/100\n",
      "800/800 [==============================] - 1s 910us/step - loss: 0.3878 - accuracy: 0.8369\n",
      "Epoch 62/100\n",
      "800/800 [==============================] - 1s 951us/step - loss: 0.3882 - accuracy: 0.8390\n",
      "Epoch 63/100\n",
      "800/800 [==============================] - 1s 893us/step - loss: 0.3833 - accuracy: 0.8404\n",
      "Epoch 64/100\n",
      "800/800 [==============================] - 1s 1ms/step - loss: 0.3869 - accuracy: 0.8361\n",
      "Epoch 65/100\n",
      "800/800 [==============================] - 1s 911us/step - loss: 0.3880 - accuracy: 0.8365\n",
      "Epoch 66/100\n",
      "800/800 [==============================] - 1s 933us/step - loss: 0.3857 - accuracy: 0.8376\n",
      "Epoch 67/100\n",
      "800/800 [==============================] - 1s 909us/step - loss: 0.3871 - accuracy: 0.8376\n",
      "Epoch 68/100\n",
      "800/800 [==============================] - 1s 914us/step - loss: 0.3895 - accuracy: 0.8375\n",
      "Epoch 69/100\n",
      "800/800 [==============================] - 1s 909us/step - loss: 0.3880 - accuracy: 0.8385\n",
      "Epoch 70/100\n",
      "800/800 [==============================] - 1s 908us/step - loss: 0.3864 - accuracy: 0.8390\n",
      "Epoch 71/100\n",
      "800/800 [==============================] - 1s 911us/step - loss: 0.3864 - accuracy: 0.8396\n",
      "Epoch 72/100\n",
      "800/800 [==============================] - 1s 926us/step - loss: 0.3855 - accuracy: 0.8401\n",
      "Epoch 73/100\n",
      "800/800 [==============================] - 1s 934us/step - loss: 0.3884 - accuracy: 0.8388\n",
      "Epoch 74/100\n",
      "800/800 [==============================] - 1s 919us/step - loss: 0.3853 - accuracy: 0.8405\n",
      "Epoch 75/100\n",
      "800/800 [==============================] - 1s 903us/step - loss: 0.3873 - accuracy: 0.8381\n",
      "Epoch 76/100\n",
      "800/800 [==============================] - 1s 910us/step - loss: 0.3897 - accuracy: 0.8367\n",
      "Epoch 77/100\n",
      "800/800 [==============================] - 1s 941us/step - loss: 0.3890 - accuracy: 0.8369\n",
      "Epoch 78/100\n",
      "800/800 [==============================] - 1s 906us/step - loss: 0.3884 - accuracy: 0.8395\n",
      "Epoch 79/100\n"
     ]
    },
    {
     "name": "stdout",
     "output_type": "stream",
     "text": [
      "800/800 [==============================] - 1s 901us/step - loss: 0.3851 - accuracy: 0.8394\n",
      "Epoch 80/100\n",
      "800/800 [==============================] - 1s 908us/step - loss: 0.3836 - accuracy: 0.8403\n",
      "Epoch 81/100\n",
      "800/800 [==============================] - 1s 893us/step - loss: 0.3883 - accuracy: 0.8421\n",
      "Epoch 82/100\n",
      "800/800 [==============================] - 1s 903us/step - loss: 0.3851 - accuracy: 0.8381\n",
      "Epoch 83/100\n",
      "800/800 [==============================] - 1s 889us/step - loss: 0.3898 - accuracy: 0.8371\n",
      "Epoch 84/100\n",
      "800/800 [==============================] - 1s 880us/step - loss: 0.3860 - accuracy: 0.8384\n",
      "Epoch 85/100\n",
      "800/800 [==============================] - 1s 906us/step - loss: 0.3870 - accuracy: 0.8434\n",
      "Epoch 86/100\n",
      "800/800 [==============================] - 1s 885us/step - loss: 0.3841 - accuracy: 0.8415\n",
      "Epoch 87/100\n",
      "800/800 [==============================] - 1s 883us/step - loss: 0.3901 - accuracy: 0.8395\n",
      "Epoch 88/100\n",
      "800/800 [==============================] - 1s 879us/step - loss: 0.3844 - accuracy: 0.8411\n",
      "Epoch 89/100\n",
      "800/800 [==============================] - 1s 873us/step - loss: 0.3890 - accuracy: 0.8374\n",
      "Epoch 90/100\n",
      "800/800 [==============================] - 1s 909us/step - loss: 0.3896 - accuracy: 0.8345\n",
      "Epoch 91/100\n",
      "800/800 [==============================] - 1s 891us/step - loss: 0.3822 - accuracy: 0.8401\n",
      "Epoch 92/100\n",
      "800/800 [==============================] - 1s 914us/step - loss: 0.3899 - accuracy: 0.8379\n",
      "Epoch 93/100\n",
      "800/800 [==============================] - 1s 895us/step - loss: 0.3875 - accuracy: 0.8426\n",
      "Epoch 94/100\n",
      "800/800 [==============================] - 1s 894us/step - loss: 0.3913 - accuracy: 0.8394\n",
      "Epoch 95/100\n",
      "800/800 [==============================] - 1s 908us/step - loss: 0.3882 - accuracy: 0.8394\n",
      "Epoch 96/100\n",
      "800/800 [==============================] - 1s 885us/step - loss: 0.3884 - accuracy: 0.8357\n",
      "Epoch 97/100\n",
      "800/800 [==============================] - 1s 893us/step - loss: 0.3874 - accuracy: 0.8369\n",
      "Epoch 98/100\n",
      "800/800 [==============================] - 1s 884us/step - loss: 0.3901 - accuracy: 0.8393\n",
      "Epoch 99/100\n",
      "800/800 [==============================] - 1s 921us/step - loss: 0.3873 - accuracy: 0.8391\n",
      "Epoch 100/100\n",
      "800/800 [==============================] - 1s 894us/step - loss: 0.3873 - accuracy: 0.8389\n"
     ]
    },
    {
     "data": {
      "text/plain": [
       "<tensorflow.python.keras.callbacks.History at 0x28811532dc0>"
      ]
     },
     "execution_count": 34,
     "metadata": {},
     "output_type": "execute_result"
    }
   ],
   "source": [
    "classifier1 = Sequential()\n",
    "classifier1.add(Dense(units=6, kernel_initializer='uniform',\n",
    "                activation='relu', input_dim=11))\n",
    "classifier1.add(Dropout(0.1)) # p is the fraction of neurons to disable\n",
    "classifier1.add(Dense(units=6, kernel_initializer='uniform',\n",
    "                activation='relu'))\n",
    "classifier1.add(Dropout(0.1))\n",
    "classifier1.add(Dense(units=1, kernel_initializer='uniform',\n",
    "                activation='sigmoid'))\n",
    "classifier1.compile(optimizer='adam', loss='binary_crossentropy',\n",
    "                   metrics=['accuracy'])\n",
    "classifier1.fit(X_train, y_train, batch_size=10, epochs=100)"
   ]
  },
  {
   "cell_type": "markdown",
   "metadata": {},
   "source": [
    "## Hyperparameter tuning\n",
    "### GridsearchCV"
   ]
  },
  {
   "cell_type": "code",
   "execution_count": 35,
   "metadata": {},
   "outputs": [],
   "source": [
    "from sklearn.model_selection import GridSearchCV"
   ]
  },
  {
   "cell_type": "code",
   "execution_count": 36,
   "metadata": {},
   "outputs": [],
   "source": [
    "def build_classifier(optimizer):\n",
    "    classifier = Sequential()\n",
    "    classifier.add(Dense(units=6, kernel_initializer='uniform',\n",
    "                    activation='relu', input_dim=11))\n",
    "    classifier.add(Dense(units=6, kernel_initializer='uniform',\n",
    "                    activation='relu'))\n",
    "    classifier.add(Dense(units=1, kernel_initializer='uniform',\n",
    "                    activation='sigmoid'))\n",
    "    classifier.compile(optimizer=optimizer, loss='binary_crossentropy',\n",
    "                       metrics=['accuracy'])\n",
    "    return classifier"
   ]
  },
  {
   "cell_type": "code",
   "execution_count": 37,
   "metadata": {},
   "outputs": [],
   "source": [
    "classifier = KerasClassifier(build_fn=build_classifier)"
   ]
  },
  {
   "cell_type": "code",
   "execution_count": 38,
   "metadata": {},
   "outputs": [],
   "source": [
    "parameters = {'batch_size':[10, 25, 32, 72, 100,],\n",
    "              'nb_epoch':[15,20,50,100],\n",
    "              'optimizer':['adam', 'rmsprop']\n",
    "             }"
   ]
  },
  {
   "cell_type": "code",
   "execution_count": 39,
   "metadata": {},
   "outputs": [],
   "source": [
    "grid_search = GridSearchCV(estimator=classifier,\n",
    "                          param_grid=parameters,\n",
    "                          scoring='accuracy', cv=10)"
   ]
  },
  {
   "cell_type": "code",
   "execution_count": 40,
   "metadata": {},
   "outputs": [
    {
     "name": "stdout",
     "output_type": "stream",
     "text": [
      "720/720 [==============================] - 1s 896us/step - loss: 0.4836 - accuracy: 0.7968\n",
      "WARNING:tensorflow:From c:\\users\\yasir\\mystuff\\env\\ml\\lib\\site-packages\\tensorflow\\python\\keras\\wrappers\\scikit_learn.py:241: Sequential.predict_classes (from tensorflow.python.keras.engine.sequential) is deprecated and will be removed after 2021-01-01.\n",
      "Instructions for updating:\n",
      "Please use instead:* `np.argmax(model.predict(x), axis=-1)`,   if your model does multi-class classification   (e.g. if it uses a `softmax` last-layer activation).* `(model.predict(x) > 0.5).astype(\"int32\")`,   if your model does binary classification   (e.g. if it uses a `sigmoid` last-layer activation).\n",
      "  1/720 [..............................] - ETA: 0s - loss: 0.6931 - accuracy: 0.6000WARNING:tensorflow:Callbacks method `on_train_batch_begin` is slow compared to the batch time (batch time: 0.0000s vs `on_train_batch_begin` time: 0.0010s). Check your callbacks.\n",
      "WARNING:tensorflow:Callbacks method `on_train_batch_end` is slow compared to the batch time (batch time: 0.0000s vs `on_train_batch_end` time: 0.0010s). Check your callbacks.\n",
      "720/720 [==============================] - 1s 940us/step - loss: 0.4965 - accuracy: 0.7965\n",
      "720/720 [==============================] - 1s 931us/step - loss: 0.4921 - accuracy: 0.7953\n",
      "720/720 [==============================] - 1s 900us/step - loss: 0.4921 - accuracy: 0.7971\n",
      "720/720 [==============================] - 1s 883us/step - loss: 0.5186 - accuracy: 0.7928\n",
      "720/720 [==============================] - 1s 1ms/step - loss: 0.4928 - accuracy: 0.7940\n",
      "720/720 [==============================] - 1s 888us/step - loss: 0.4971 - accuracy: 0.7965\n",
      "720/720 [==============================] - 1s 925us/step - loss: 0.5012 - accuracy: 0.7961\n",
      "720/720 [==============================] - 1s 1ms/step - loss: 0.4877 - accuracy: 0.7957\n",
      "720/720 [==============================] - 1s 1ms/step - loss: 0.4944 - accuracy: 0.7957\n",
      "720/720 [==============================] - 1s 942us/step - loss: 0.5122 - accuracy: 0.7961\n",
      "720/720 [==============================] - 1s 1ms/step - loss: 0.5053 - accuracy: 0.7964\n",
      "720/720 [==============================] - 1s 1ms/step - loss: 0.5496 - accuracy: 0.7950\n",
      "720/720 [==============================] - 1s 1ms/step - loss: 0.4973 - accuracy: 0.7975\n",
      "720/720 [==============================] - 1s 1ms/step - loss: 0.5092 - accuracy: 0.7937\n",
      "720/720 [==============================] - 1s 895us/step - loss: 0.4981 - accuracy: 0.7943\n",
      "720/720 [==============================] - 1s 897us/step - loss: 0.5200 - accuracy: 0.7960\n",
      "720/720 [==============================] - 1s 889us/step - loss: 0.5027 - accuracy: 0.7962\n",
      "720/720 [==============================] - 1s 967us/step - loss: 0.4996 - accuracy: 0.7957\n",
      "720/720 [==============================] - 1s 926us/step - loss: 0.5066 - accuracy: 0.7951\n",
      "720/720 [==============================] - 1s 879us/step - loss: 0.4902 - accuracy: 0.7969\n",
      "720/720 [==============================] - 1s 904us/step - loss: 0.4932 - accuracy: 0.7965\n",
      "720/720 [==============================] - 1s 1ms/step - loss: 0.4895 - accuracy: 0.7956\n",
      "720/720 [==============================] - 1s 1ms/step - loss: 0.4915 - accuracy: 0.7976\n",
      "720/720 [==============================] - 1s 1ms/step - loss: 0.4976 - accuracy: 0.7932\n",
      "720/720 [==============================] - 1s 951us/step - loss: 0.4982 - accuracy: 0.7942\n",
      "720/720 [==============================] - 1s 933us/step - loss: 0.4808 - accuracy: 0.7968\n",
      "720/720 [==============================] - 1s 925us/step - loss: 0.4865 - accuracy: 0.7958\n",
      "720/720 [==============================] - 1s 931us/step - loss: 0.4831 - accuracy: 0.7950\n",
      "720/720 [==============================] - 1s 1ms/step - loss: 0.4969 - accuracy: 0.7950\n",
      "720/720 [==============================] - ETA: 0s - loss: 0.4954 - accuracy: 0.79 - 1s 935us/step - loss: 0.4938 - accuracy: 0.7971\n",
      "720/720 [==============================] - 1s 957us/step - loss: 0.5130 - accuracy: 0.7961\n",
      "720/720 [==============================] - 1s 971us/step - loss: 0.5132 - accuracy: 0.7953\n",
      "720/720 [==============================] - 1s 907us/step - loss: 0.4915 - accuracy: 0.7975\n",
      "720/720 [==============================] - 1s 1ms/step - loss: 0.5147 - accuracy: 0.7932\n",
      "720/720 [==============================] - 1s 951us/step - loss: 0.5092 - accuracy: 0.7936\n",
      "720/720 [==============================] - 1s 920us/step - loss: 0.5186 - accuracy: 0.7958\n",
      "720/720 [==============================] - 1s 938us/step - loss: 0.5201 - accuracy: 0.7954\n",
      "720/720 [==============================] - 1s 920us/step - loss: 0.5101 - accuracy: 0.7957\n",
      "720/720 [==============================] - 1s 935us/step - loss: 0.4964 - accuracy: 0.7961\n",
      "720/720 [==============================] - 1s 951us/step - loss: 0.4844 - accuracy: 0.7971\n",
      "720/720 [==============================] - 1s 929us/step - loss: 0.4854 - accuracy: 0.8003\n",
      "720/720 [==============================] - 1s 921us/step - loss: 0.5167 - accuracy: 0.7946\n",
      "720/720 [==============================] - 1s 925us/step - loss: 0.4897 - accuracy: 0.7976\n",
      "720/720 [==============================] - 1s 1ms/step - loss: 0.4893 - accuracy: 0.7937\n",
      "720/720 [==============================] - 1s 926us/step - loss: 0.4941 - accuracy: 0.7942\n",
      "720/720 [==============================] - 1s 910us/step - loss: 0.4826 - accuracy: 0.7971\n",
      "720/720 [==============================] - 1s 917us/step - loss: 0.5183 - accuracy: 0.7972\n",
      "720/720 [==============================] - 1s 1ms/step - loss: 0.4857 - accuracy: 0.7957\n",
      "720/720 [==============================] - 1s 945us/step - loss: 0.4901 - accuracy: 0.7951\n",
      "720/720 [==============================] - 1s 939us/step - loss: 0.5146 - accuracy: 0.7961\n",
      "720/720 [==============================] - 1s 933us/step - loss: 0.5197 - accuracy: 0.7964\n",
      "720/720 [==============================] - 1s 943us/step - loss: 0.5075 - accuracy: 0.7951\n",
      "720/720 [==============================] - 1s 945us/step - loss: 0.4971 - accuracy: 0.7968\n",
      "720/720 [==============================] - 1s 907us/step - loss: 0.5123 - accuracy: 0.7936\n",
      "720/720 [==============================] - 1s 918us/step - loss: 0.5124 - accuracy: 0.7933\n",
      "720/720 [==============================] - 1s 933us/step - loss: 0.5055 - accuracy: 0.7967\n",
      "720/720 [==============================] - 1s 958us/step - loss: 0.5079 - accuracy: 0.7958\n",
      "720/720 [==============================] - 1s 964us/step - loss: 0.5423 - accuracy: 0.7953\n",
      "720/720 [==============================] - 1s 1ms/step - loss: 0.5100 - accuracy: 0.7957\n",
      "720/720 [==============================] - 1s 951us/step - loss: 0.4849 - accuracy: 0.7971\n",
      "720/720 [==============================] - 1s 931us/step - loss: 0.4882 - accuracy: 0.7992\n",
      "720/720 [==============================] - 1s 939us/step - loss: 0.5120 - accuracy: 0.7943\n",
      "720/720 [==============================] - 1s 945us/step - loss: 0.4833 - accuracy: 0.7976\n",
      "720/720 [==============================] - 1s 897us/step - loss: 0.5047 - accuracy: 0.7929\n",
      "720/720 [==============================] - 1s 945us/step - loss: 0.4934 - accuracy: 0.7936\n",
      "720/720 [==============================] - 1s 900us/step - loss: 0.4910 - accuracy: 0.7962\n",
      "720/720 [==============================] - 1s 963us/step - loss: 0.4876 - accuracy: 0.7958\n",
      "720/720 [==============================] - 1s 899us/step - loss: 0.4883 - accuracy: 0.7947\n",
      "720/720 [==============================] - 1s 943us/step - loss: 0.4898 - accuracy: 0.7954\n",
      "720/720 [==============================] - 1s 918us/step - loss: 0.5059 - accuracy: 0.7962\n",
      "720/720 [==============================] - 1s 946us/step - loss: 0.5161 - accuracy: 0.7964\n",
      "720/720 [==============================] - 1s 889us/step - loss: 0.5056 - accuracy: 0.7950\n",
      "720/720 [==============================] - 1s 956us/step - loss: 0.5095 - accuracy: 0.7969\n",
      "720/720 [==============================] - 1s 919us/step - loss: 0.5032 - accuracy: 0.7935\n",
      "720/720 [==============================] - 1s 726us/step - loss: 0.5068 - accuracy: 0.7942\n",
      "720/720 [==============================] - 1s 725us/step - loss: 0.5413 - accuracy: 0.7960\n",
      "720/720 [==============================] - 1s 736us/step - loss: 0.5230 - accuracy: 0.7954\n",
      "720/720 [==============================] - 0s 689us/step - loss: 0.5152 - accuracy: 0.7949\n",
      "720/720 [==============================] - 0s 686us/step - loss: 0.5194 - accuracy: 0.7950\n",
      "288/288 [==============================] - 0s 705us/step - loss: 0.5587 - accuracy: 0.7965\n",
      "288/288 [==============================] - 0s 722us/step - loss: 0.5730 - accuracy: 0.7968\n",
      "288/288 [==============================] - 0s 705us/step - loss: 0.5684 - accuracy: 0.7940\n",
      "288/288 [==============================] - 0s 715us/step - loss: 0.5751 - accuracy: 0.7954\n",
      "288/288 [==============================] - 0s 743us/step - loss: 0.5668 - accuracy: 0.7935\n",
      "288/288 [==============================] - 0s 712us/step - loss: 0.5463 - accuracy: 0.7926\n",
      "288/288 [==============================] - 0s 740us/step - loss: 0.5601 - accuracy: 0.7965\n",
      "288/288 [==============================] - 0s 722us/step - loss: 0.5578 - accuracy: 0.7961\n",
      "288/288 [==============================] - 0s 708us/step - loss: 0.5724 - accuracy: 0.7946\n",
      "288/288 [==============================] - 0s 701us/step - loss: 0.5595 - accuracy: 0.7942\n",
      "288/288 [==============================] - 0s 691us/step - loss: 0.5746 - accuracy: 0.7968\n",
      "288/288 [==============================] - 0s 705us/step - loss: 0.5594 - accuracy: 0.7965\n",
      "288/288 [==============================] - 0s 705us/step - loss: 0.5717 - accuracy: 0.7956\n",
      "288/288 [==============================] - 0s 760us/step - loss: 0.5753 - accuracy: 0.7974\n",
      "288/288 [==============================] - 0s 719us/step - loss: 0.6240 - accuracy: 0.7917\n",
      "288/288 [==============================] - 0s 750us/step - loss: 0.5884 - accuracy: 0.7929\n",
      "288/288 [==============================] - 0s 726us/step - loss: 0.5771 - accuracy: 0.7954\n",
      "288/288 [==============================] - 0s 740us/step - loss: 0.5893 - accuracy: 0.7950\n",
      "288/288 [==============================] - 0s 684us/step - loss: 0.6085 - accuracy: 0.7933\n",
      "288/288 [==============================] - 0s 708us/step - loss: 0.5826 - accuracy: 0.7958\n",
      "288/288 [==============================] - 0s 767us/step - loss: 0.5520 - accuracy: 0.7968\n",
      "288/288 [==============================] - 0s 733us/step - loss: 0.5456 - accuracy: 0.7967\n",
      "288/288 [==============================] - 0s 705us/step - loss: 0.5519 - accuracy: 0.7956\n",
      "288/288 [==============================] - 0s 726us/step - loss: 0.5482 - accuracy: 0.7967\n",
      "288/288 [==============================] - 0s 705us/step - loss: 0.5489 - accuracy: 0.7929\n",
      "288/288 [==============================] - 0s 712us/step - loss: 0.5612 - accuracy: 0.7931\n",
      "288/288 [==============================] - 0s 722us/step - loss: 0.5831 - accuracy: 0.7949\n",
      "288/288 [==============================] - 0s 917us/step - loss: 0.5670 - accuracy: 0.7943\n",
      "288/288 [==============================] - 0s 771us/step - loss: 0.5672 - accuracy: 0.7956\n",
      "288/288 [==============================] - 0s 719us/step - loss: 0.5492 - accuracy: 0.7958\n",
      "288/288 [==============================] - 0s 747us/step - loss: 0.6046 - accuracy: 0.7946\n",
      "288/288 [==============================] - 0s 719us/step - loss: 0.5856 - accuracy: 0.7958\n",
      "288/288 [==============================] - 0s 806us/step - loss: 0.5619 - accuracy: 0.7956\n",
      "288/288 [==============================] - 0s 701us/step - loss: 0.6051 - accuracy: 0.7956\n",
      "288/288 [==============================] - 0s 701us/step - loss: 0.5557 - accuracy: 0.7937\n",
      "288/288 [==============================] - 0s 767us/step - loss: 0.5709 - accuracy: 0.7932\n",
      "288/288 [==============================] - 0s 726us/step - loss: 0.5938 - accuracy: 0.7951\n",
      "288/288 [==============================] - 0s 712us/step - loss: 0.5613 - accuracy: 0.7958\n",
      "288/288 [==============================] - 0s 708us/step - loss: 0.5732 - accuracy: 0.7950\n",
      "288/288 [==============================] - 0s 733us/step - loss: 0.5707 - accuracy: 0.7967\n",
      "288/288 [==============================] - 0s 733us/step - loss: 0.5706 - accuracy: 0.7951\n",
      "288/288 [==============================] - 0s 708us/step - loss: 0.5764 - accuracy: 0.7953\n",
      "288/288 [==============================] - 0s 729us/step - loss: 0.5546 - accuracy: 0.7942\n",
      "288/288 [==============================] - 0s 861us/step - loss: 0.5879 - accuracy: 0.7958\n",
      "288/288 [==============================] - 0s 955us/step - loss: 0.5628 - accuracy: 0.7937\n",
      "288/288 [==============================] - ETA: 0s - loss: 0.5793 - accuracy: 0.79 - 0s 802us/step - loss: 0.5637 - accuracy: 0.7926\n",
      "288/288 [==============================] - 0s 743us/step - loss: 0.5534 - accuracy: 0.7961\n",
      "288/288 [==============================] - 0s 792us/step - loss: 0.5691 - accuracy: 0.7947\n",
      "288/288 [==============================] - 0s 719us/step - loss: 0.5742 - accuracy: 0.7940\n",
      "288/288 [==============================] - 0s 705us/step - loss: 0.5782 - accuracy: 0.7946\n",
      "288/288 [==============================] - 0s 851us/step - loss: 0.5799 - accuracy: 0.7971\n",
      "288/288 [==============================] - 0s 924us/step - loss: 0.5721 - accuracy: 0.7964\n",
      "288/288 [==============================] - 0s 719us/step - loss: 0.5605 - accuracy: 0.7954\n",
      "288/288 [==============================] - 0s 705us/step - loss: 0.5544 - accuracy: 0.7975\n",
      "288/288 [==============================] - 0s 688us/step - loss: 0.5879 - accuracy: 0.7915\n",
      "288/288 [==============================] - 0s 705us/step - loss: 0.5633 - accuracy: 0.7943\n",
      "288/288 [==============================] - 0s 719us/step - loss: 0.5688 - accuracy: 0.7967\n",
      "288/288 [==============================] - 0s 715us/step - loss: 0.6014 - accuracy: 0.7944\n",
      "288/288 [==============================] - 0s 701us/step - loss: 0.5765 - accuracy: 0.7953\n",
      "288/288 [==============================] - 0s 698us/step - loss: 0.6541 - accuracy: 0.7935\n",
      "288/288 [==============================] - 0s 750us/step - loss: 0.6110 - accuracy: 0.7950\n",
      "288/288 [==============================] - 0s 882us/step - loss: 0.5510 - accuracy: 0.7953\n",
      "288/288 [==============================] - 0s 743us/step - loss: 0.5479 - accuracy: 0.7957\n",
      "288/288 [==============================] - 0s 726us/step - loss: 0.5507 - accuracy: 0.7975\n",
      "288/288 [==============================] - 0s 715us/step - loss: 0.5626 - accuracy: 0.7918\n",
      "288/288 [==============================] - 0s 976us/step - loss: 0.5764 - accuracy: 0.7929\n",
      "  1/288 [..............................] - ETA: 0s - loss: 0.6932 - accuracy: 0.2800WARNING:tensorflow:Callbacks method `on_train_batch_end` is slow compared to the batch time (batch time: 0.0000s vs `on_train_batch_end` time: 0.0010s). Check your callbacks.\n",
      "288/288 [==============================] - 0s 958us/step - loss: 0.5608 - accuracy: 0.7953\n",
      "288/288 [==============================] - 0s 941us/step - loss: 0.5585 - accuracy: 0.7954\n",
      "288/288 [==============================] - 0s 754us/step - loss: 0.5481 - accuracy: 0.7957\n",
      "288/288 [==============================] - 0s 722us/step - loss: 0.5826 - accuracy: 0.7932\n",
      "288/288 [==============================] - 0s 712us/step - loss: 0.5571 - accuracy: 0.7971\n",
      "288/288 [==============================] - 0s 733us/step - loss: 0.5642 - accuracy: 0.7964\n",
      "288/288 [==============================] - 0s 1ms/step - loss: 0.5690 - accuracy: 0.7957\n",
      "  1/288 [..............................] - ETA: 0s - loss: 0.6931 - accuracy: 0.6000WARNING:tensorflow:Callbacks method `on_train_batch_end` is slow compared to the batch time (batch time: 0.0000s vs `on_train_batch_end` time: 0.0010s). Check your callbacks.\n",
      "288/288 [==============================] - 0s 722us/step - loss: 0.5710 - accuracy: 0.7968\n",
      "288/288 [==============================] - 0s 701us/step - loss: 0.5666 - accuracy: 0.7937\n",
      "288/288 [==============================] - 0s 722us/step - loss: 0.6039 - accuracy: 0.7924\n",
      "288/288 [==============================] - 0s 733us/step - loss: 0.5977 - accuracy: 0.7957\n",
      "288/288 [==============================] - 0s 729us/step - loss: 0.5897 - accuracy: 0.7946\n",
      "288/288 [==============================] - 0s 688us/step - loss: 0.5852 - accuracy: 0.7943\n",
      "288/288 [==============================] - 0s 712us/step - loss: 0.6002 - accuracy: 0.7949\n",
      "225/225 [==============================] - 0s 738us/step - loss: 0.5915 - accuracy: 0.7957\n"
     ]
    },
    {
     "name": "stdout",
     "output_type": "stream",
     "text": [
      "225/225 [==============================] - 0s 720us/step - loss: 0.5742 - accuracy: 0.7967\n",
      "225/225 [==============================] - 0s 716us/step - loss: 0.5857 - accuracy: 0.7947\n",
      "225/225 [==============================] - 0s 720us/step - loss: 0.5819 - accuracy: 0.7958\n",
      "225/225 [==============================] - 0s 773us/step - loss: 0.5821 - accuracy: 0.7929\n",
      "225/225 [==============================] - 0s 720us/step - loss: 0.6112 - accuracy: 0.7912\n",
      "225/225 [==============================] - 0s 716us/step - loss: 0.6109 - accuracy: 0.7939\n",
      "225/225 [==============================] - 0s 716us/step - loss: 0.5934 - accuracy: 0.7968\n",
      "225/225 [==============================] - 0s 707us/step - loss: 0.6072 - accuracy: 0.7949\n",
      "225/225 [==============================] - 0s 720us/step - loss: 0.6284 - accuracy: 0.7940\n",
      "225/225 [==============================] - 0s 720us/step - loss: 0.6234 - accuracy: 0.7942\n",
      "225/225 [==============================] - 0s 724us/step - loss: 0.6134 - accuracy: 0.7946\n",
      "225/225 [==============================] - 0s 707us/step - loss: 0.5993 - accuracy: 0.7939\n",
      "225/225 [==============================] - 0s 711us/step - loss: 0.5960 - accuracy: 0.7972\n",
      "225/225 [==============================] - 0s 707us/step - loss: 0.5761 - accuracy: 0.7937\n",
      "225/225 [==============================] - 0s 720us/step - loss: 0.6021 - accuracy: 0.7928\n",
      "225/225 [==============================] - 0s 711us/step - loss: 0.6082 - accuracy: 0.7960\n",
      "225/225 [==============================] - 0s 720us/step - loss: 0.5918 - accuracy: 0.7954\n",
      "225/225 [==============================] - 0s 720us/step - loss: 0.5981 - accuracy: 0.7954\n",
      "225/225 [==============================] - 0s 702us/step - loss: 0.6226 - accuracy: 0.7944\n",
      "225/225 [==============================] - 0s 716us/step - loss: 0.6184 - accuracy: 0.7954\n",
      "225/225 [==============================] - 0s 765us/step - loss: 0.5955 - accuracy: 0.7936\n",
      "225/225 [==============================] - 0s 907us/step - loss: 0.5972 - accuracy: 0.7943\n",
      "225/225 [==============================] - 0s 787us/step - loss: 0.6042 - accuracy: 0.7965\n",
      "225/225 [==============================] - 0s 1ms/step - loss: 0.5830 - accuracy: 0.7906\n",
      "225/225 [==============================] - 0s 1ms/step - loss: 0.5896 - accuracy: 0.7939\n",
      "225/225 [==============================] - 0s 1ms/step - loss: 0.6105 - accuracy: 0.7954\n",
      "225/225 [==============================] - 0s 742us/step - loss: 0.6170 - accuracy: 0.7933\n",
      "225/225 [==============================] - 0s 778us/step - loss: 0.5831 - accuracy: 0.7944\n",
      "225/225 [==============================] - 0s 733us/step - loss: 0.6102 - accuracy: 0.7943\n",
      "225/225 [==============================] - 0s 716us/step - loss: 0.6460 - accuracy: 0.7951\n",
      "225/225 [==============================] - 0s 729us/step - loss: 0.6427 - accuracy: 0.7961\n",
      "225/225 [==============================] - 0s 720us/step - loss: 0.6258 - accuracy: 0.7935\n",
      "225/225 [==============================] - 0s 720us/step - loss: 0.6397 - accuracy: 0.7956\n",
      "225/225 [==============================] - 0s 698us/step - loss: 0.6193 - accuracy: 0.7926\n",
      "225/225 [==============================] - 0s 773us/step - loss: 0.5893 - accuracy: 0.7944\n",
      "225/225 [==============================] - 0s 716us/step - loss: 0.6416 - accuracy: 0.7943\n",
      "225/225 [==============================] - 0s 738us/step - loss: 0.5866 - accuracy: 0.7962\n",
      "225/225 [==============================] - 0s 725us/step - loss: 0.5846 - accuracy: 0.7957\n",
      "225/225 [==============================] - 0s 716us/step - loss: 0.6109 - accuracy: 0.7951\n",
      "225/225 [==============================] - 0s 720us/step - loss: 0.5839 - accuracy: 0.7965\n",
      "225/225 [==============================] - 0s 733us/step - loss: 0.5797 - accuracy: 0.7956\n",
      "225/225 [==============================] - 0s 729us/step - loss: 0.5948 - accuracy: 0.7928\n",
      "225/225 [==============================] - 0s 720us/step - loss: 0.5758 - accuracy: 0.7974\n",
      "225/225 [==============================] - 0s 733us/step - loss: 0.5916 - accuracy: 0.7924\n",
      "225/225 [==============================] - 0s 733us/step - loss: 0.5721 - accuracy: 0.7946\n",
      "225/225 [==============================] - 0s 733us/step - loss: 0.5946 - accuracy: 0.7944\n",
      "225/225 [==============================] - 0s 716us/step - loss: 0.5800 - accuracy: 0.7947\n",
      "225/225 [==============================] - 0s 716us/step - loss: 0.5899 - accuracy: 0.7944\n",
      "225/225 [==============================] - 0s 711us/step - loss: 0.5815 - accuracy: 0.7954\n",
      "225/225 [==============================] - 0s 720us/step - loss: 0.6288 - accuracy: 0.7967\n",
      "225/225 [==============================] - 0s 702us/step - loss: 0.5887 - accuracy: 0.7947\n",
      "225/225 [==============================] - 0s 702us/step - loss: 0.6228 - accuracy: 0.7937\n",
      "225/225 [==============================] - 0s 698us/step - loss: 0.5994 - accuracy: 0.7975\n",
      "225/225 [==============================] - 0s 716us/step - loss: 0.6275 - accuracy: 0.7906\n",
      "225/225 [==============================] - 0s 711us/step - loss: 0.5961 - accuracy: 0.7936\n",
      "225/225 [==============================] - 0s 720us/step - loss: 0.6003 - accuracy: 0.7958\n",
      "225/225 [==============================] - 0s 729us/step - loss: 0.6309 - accuracy: 0.7939\n",
      "225/225 [==============================] - 0s 729us/step - loss: 0.5878 - accuracy: 0.7957\n",
      "225/225 [==============================] - 0s 707us/step - loss: 0.6189 - accuracy: 0.7940\n",
      "  1/225 [..............................] - ETA: 0s - loss: 0.6932 - accuracy: 0.3750WARNING:tensorflow:Callbacks method `on_train_batch_end` is slow compared to the batch time (batch time: 0.0000s vs `on_train_batch_end` time: 0.0010s). Check your callbacks.\n",
      "225/225 [==============================] - 0s 742us/step - loss: 0.5932 - accuracy: 0.7949\n",
      "225/225 [==============================] - 0s 742us/step - loss: 0.5941 - accuracy: 0.7947\n",
      "225/225 [==============================] - 0s 747us/step - loss: 0.5730 - accuracy: 0.7953\n",
      "225/225 [==============================] - 0s 791us/step - loss: 0.5948 - accuracy: 0.7954\n",
      "225/225 [==============================] - 0s 724us/step - loss: 0.5938 - accuracy: 0.7910\n",
      "225/225 [==============================] - 0s 738us/step - loss: 0.5747 - accuracy: 0.7942\n",
      "225/225 [==============================] - 0s 747us/step - loss: 0.6128 - accuracy: 0.7944\n",
      "225/225 [==============================] - 0s 738us/step - loss: 0.6079 - accuracy: 0.7960\n",
      "225/225 [==============================] - 0s 729us/step - loss: 0.5937 - accuracy: 0.7962\n",
      "225/225 [==============================] - 0s 742us/step - loss: 0.5733 - accuracy: 0.7958\n",
      "225/225 [==============================] - 0s 818us/step - loss: 0.5951 - accuracy: 0.7969\n",
      "225/225 [==============================] - 0s 773us/step - loss: 0.5903 - accuracy: 0.7958\n",
      "225/225 [==============================] - 0s 778us/step - loss: 0.6094 - accuracy: 0.7928\n",
      "225/225 [==============================] - 0s 725us/step - loss: 0.6417 - accuracy: 0.7961\n",
      "225/225 [==============================] - 0s 711us/step - loss: 0.5970 - accuracy: 0.7928\n",
      "225/225 [==============================] - 0s 725us/step - loss: 0.6443 - accuracy: 0.7919\n",
      "  1/225 [..............................] - ETA: 0s - loss: 0.6931 - accuracy: 0.5938WARNING:tensorflow:Callbacks method `on_train_batch_begin` is slow compared to the batch time (batch time: 0.0000s vs `on_train_batch_begin` time: 0.0010s). Check your callbacks.\n",
      "WARNING:tensorflow:Callbacks method `on_train_batch_end` is slow compared to the batch time (batch time: 0.0000s vs `on_train_batch_end` time: 0.0010s). Check your callbacks.\n",
      "225/225 [==============================] - 0s 747us/step - loss: 0.5885 - accuracy: 0.7961\n",
      "225/225 [==============================] - 0s 698us/step - loss: 0.5954 - accuracy: 0.7958\n",
      "225/225 [==============================] - 0s 733us/step - loss: 0.5945 - accuracy: 0.7946\n",
      "  1/225 [..............................] - ETA: 0s - loss: 0.6932 - accuracy: 0.3125WARNING:tensorflow:Callbacks method `on_train_batch_begin` is slow compared to the batch time (batch time: 0.0000s vs `on_train_batch_begin` time: 0.0010s). Check your callbacks.\n",
      "WARNING:tensorflow:Callbacks method `on_train_batch_end` is slow compared to the batch time (batch time: 0.0000s vs `on_train_batch_end` time: 0.0010s). Check your callbacks.\n"
     ]
    },
    {
     "name": "stdout",
     "output_type": "stream",
     "text": [
      "225/225 [==============================] - 0s 720us/step - loss: 0.6118 - accuracy: 0.7943\n",
      "100/100 [==============================] - 0s 780us/step - loss: 0.6682 - accuracy: 0.7957\n",
      "100/100 [==============================] - 0s 760us/step - loss: 0.6532 - accuracy: 0.7967\n",
      "100/100 [==============================] - 0s 770us/step - loss: 0.6654 - accuracy: 0.7900\n",
      "100/100 [==============================] - 0s 760us/step - loss: 0.6618 - accuracy: 0.7965\n",
      "100/100 [==============================] - 0s 750us/step - loss: 0.6722 - accuracy: 0.7875\n",
      "100/100 [==============================] - 0s 780us/step - loss: 0.6658 - accuracy: 0.7896\n",
      "100/100 [==============================] - 0s 750us/step - loss: 0.6683 - accuracy: 0.7953\n",
      "100/100 [==============================] - 0s 770us/step - loss: 0.6748 - accuracy: 0.7932\n",
      "100/100 [==============================] - 0s 780us/step - loss: 0.6685 - accuracy: 0.7924\n",
      "100/100 [==============================] - 0s 780us/step - loss: 0.6588 - accuracy: 0.7960\n",
      "100/100 [==============================] - 0s 750us/step - loss: 0.6538 - accuracy: 0.7967\n",
      "100/100 [==============================] - 0s 760us/step - loss: 0.6766 - accuracy: 0.7919\n",
      "100/100 [==============================] - 0s 820us/step - loss: 0.6643 - accuracy: 0.7908\n",
      "100/100 [==============================] - 0s 750us/step - loss: 0.6565 - accuracy: 0.7964\n",
      "100/100 [==============================] - 0s 800us/step - loss: 0.6579 - accuracy: 0.7925\n",
      "100/100 [==============================] - 0s 760us/step - loss: 0.6682 - accuracy: 0.7882\n",
      "100/100 [==============================] - 0s 720us/step - loss: 0.6588 - accuracy: 0.7962\n",
      "100/100 [==============================] - 0s 780us/step - loss: 0.6635 - accuracy: 0.7947\n",
      "100/100 [==============================] - 0s 740us/step - loss: 0.6661 - accuracy: 0.7906\n",
      "100/100 [==============================] - 0s 770us/step - loss: 0.6627 - accuracy: 0.7951\n",
      "100/100 [==============================] - 0s 780us/step - loss: 0.6579 - accuracy: 0.7967\n",
      "100/100 [==============================] - 0s 780us/step - loss: 0.6644 - accuracy: 0.7962\n",
      "100/100 [==============================] - 0s 780us/step - loss: 0.6714 - accuracy: 0.7919\n",
      "100/100 [==============================] - 0s 790us/step - loss: 0.6645 - accuracy: 0.7960\n",
      "100/100 [==============================] - 0s 770us/step - loss: 0.6658 - accuracy: 0.7889\n",
      "100/100 [==============================] - 0s 760us/step - loss: 0.6602 - accuracy: 0.7933\n",
      "100/100 [==============================] - 0s 790us/step - loss: 0.6701 - accuracy: 0.7940\n",
      "100/100 [==============================] - 0s 880us/step - loss: 0.6749 - accuracy: 0.7917\n",
      "100/100 [==============================] - 0s 780us/step - loss: 0.6669 - accuracy: 0.7922\n",
      "100/100 [==============================] - 0s 770us/step - loss: 0.6680 - accuracy: 0.7924\n",
      "100/100 [==============================] - 0s 770us/step - loss: 0.6726 - accuracy: 0.7908\n",
      "100/100 [==============================] - 0s 770us/step - loss: 0.6636 - accuracy: 0.7912\n",
      "100/100 [==============================] - 0s 790us/step - loss: 0.6676 - accuracy: 0.7935\n",
      "100/100 [==============================] - 0s 760us/step - loss: 0.6673 - accuracy: 0.7929\n",
      "100/100 [==============================] - 0s 850us/step - loss: 0.6598 - accuracy: 0.7936\n",
      "100/100 [==============================] - 0s 780us/step - loss: 0.6577 - accuracy: 0.7943\n",
      "100/100 [==============================] - 0s 770us/step - loss: 0.6560 - accuracy: 0.7962\n",
      "100/100 [==============================] - 0s 770us/step - loss: 0.6626 - accuracy: 0.7942\n",
      "100/100 [==============================] - 0s 750us/step - loss: 0.6666 - accuracy: 0.7926\n",
      "100/100 [==============================] - 0s 770us/step - loss: 0.6569 - accuracy: 0.7954\n",
      "100/100 [==============================] - 0s 770us/step - loss: 0.6661 - accuracy: 0.7906\n",
      "100/100 [==============================] - 0s 760us/step - loss: 0.6637 - accuracy: 0.7958\n",
      "100/100 [==============================] - 0s 770us/step - loss: 0.6645 - accuracy: 0.7957\n",
      "100/100 [==============================] - 0s 760us/step - loss: 0.6625 - accuracy: 0.7975\n",
      "100/100 [==============================] - 0s 770us/step - loss: 0.6736 - accuracy: 0.7865\n",
      "100/100 [==============================] - 0s 770us/step - loss: 0.6677 - accuracy: 0.7931\n",
      "100/100 [==============================] - 0s 750us/step - loss: 0.6622 - accuracy: 0.7961\n",
      "100/100 [==============================] - 0s 770us/step - loss: 0.6749 - accuracy: 0.7896\n",
      "100/100 [==============================] - 0s 780us/step - loss: 0.6717 - accuracy: 0.7924\n",
      "100/100 [==============================] - 0s 780us/step - loss: 0.6703 - accuracy: 0.7921\n",
      "100/100 [==============================] - 0s 780us/step - loss: 0.6639 - accuracy: 0.7915\n",
      "100/100 [==============================] - 0s 850us/step - loss: 0.6715 - accuracy: 0.7940\n",
      "100/100 [==============================] - 0s 730us/step - loss: 0.6646 - accuracy: 0.7935\n",
      "100/100 [==============================] - 0s 770us/step - loss: 0.6640 - accuracy: 0.7933\n",
      "100/100 [==============================] - 0s 750us/step - loss: 0.6627 - accuracy: 0.7924\n",
      "100/100 [==============================] - 0s 760us/step - loss: 0.6633 - accuracy: 0.7917\n",
      "100/100 [==============================] - 0s 770us/step - loss: 0.6530 - accuracy: 0.7957\n",
      "100/100 [==============================] - 0s 860us/step - loss: 0.6537 - accuracy: 0.7962\n",
      "100/100 [==============================] - 0s 790us/step - loss: 0.6607 - accuracy: 0.7910\n",
      "100/100 [==============================] - 0s 870us/step - loss: 0.6598 - accuracy: 0.7942\n",
      "100/100 [==============================] - 0s 780us/step - loss: 0.6688 - accuracy: 0.7953\n",
      "100/100 [==============================] - 0s 790us/step - loss: 0.6740 - accuracy: 0.7919\n",
      "100/100 [==============================] - 0s 760us/step - loss: 0.6720 - accuracy: 0.7900\n",
      "100/100 [==============================] - 0s 750us/step - loss: 0.6674 - accuracy: 0.7943\n",
      "100/100 [==============================] - 0s 770us/step - loss: 0.6731 - accuracy: 0.7890\n",
      "100/100 [==============================] - 0s 790us/step - loss: 0.6724 - accuracy: 0.7915\n",
      "100/100 [==============================] - 0s 760us/step - loss: 0.6663 - accuracy: 0.7962\n",
      "100/100 [==============================] - 0s 800us/step - loss: 0.6682 - accuracy: 0.7908\n",
      "100/100 [==============================] - 0s 750us/step - loss: 0.6682 - accuracy: 0.7910\n",
      "100/100 [==============================] - 0s 790us/step - loss: 0.6716 - accuracy: 0.7946\n",
      "100/100 [==============================] - 0s 750us/step - loss: 0.6509 - accuracy: 0.7971\n",
      "100/100 [==============================] - 0s 770us/step - loss: 0.6644 - accuracy: 0.7918\n",
      "100/100 [==============================] - 0s 760us/step - loss: 0.6655 - accuracy: 0.7908\n",
      "100/100 [==============================] - 0s 760us/step - loss: 0.6643 - accuracy: 0.7954\n",
      "100/100 [==============================] - 0s 760us/step - loss: 0.6644 - accuracy: 0.7901\n",
      "100/100 [==============================] - 0s 780us/step - loss: 0.6508 - accuracy: 0.7944\n",
      "100/100 [==============================] - 0s 810us/step - loss: 0.6629 - accuracy: 0.7950\n",
      "100/100 [==============================] - 0s 900us/step - loss: 0.6659 - accuracy: 0.7931\n",
      "100/100 [==============================] - 0s 770us/step - loss: 0.6668 - accuracy: 0.7922\n",
      "100/100 [==============================] - 0s 1ms/step - loss: 0.6603 - accuracy: 0.7943\n",
      "72/72 [==============================] - 0s 820us/step - loss: 0.6792 - accuracy: 0.7949\n",
      "72/72 [==============================] - 0s 792us/step - loss: 0.6815 - accuracy: 0.7887\n",
      "72/72 [==============================] - 0s 806us/step - loss: 0.6787 - accuracy: 0.7929\n",
      "72/72 [==============================] - 0s 792us/step - loss: 0.6774 - accuracy: 0.7943\n",
      "72/72 [==============================] - 0s 820us/step - loss: 0.6750 - accuracy: 0.7921\n",
      "72/72 [==============================] - 0s 820us/step - loss: 0.6739 - accuracy: 0.7937\n",
      "72/72 [==============================] - 0s 778us/step - loss: 0.6775 - accuracy: 0.7949\n",
      "72/72 [==============================] - 0s 778us/step - loss: 0.6809 - accuracy: 0.7878\n",
      "72/72 [==============================] - 0s 820us/step - loss: 0.6750 - accuracy: 0.7956\n",
      "72/72 [==============================] - 0s 889us/step - loss: 0.6745 - accuracy: 0.7958\n",
      "72/72 [==============================] - 0s 778us/step - loss: 0.6686 - accuracy: 0.7964\n",
      "72/72 [==============================] - 0s 792us/step - loss: 0.6707 - accuracy: 0.7917\n",
      "72/72 [==============================] - 0s 820us/step - loss: 0.6748 - accuracy: 0.7864\n",
      "72/72 [==============================] - 0s 764us/step - loss: 0.6697 - accuracy: 0.7961\n",
      "72/72 [==============================] - 0s 736us/step - loss: 0.6806 - accuracy: 0.7868\n",
      "72/72 [==============================] - 0s 806us/step - loss: 0.6753 - accuracy: 0.7869\n",
      "72/72 [==============================] - 0s 958us/step - loss: 0.6786 - accuracy: 0.7889\n",
      "72/72 [==============================] - 0s 764us/step - loss: 0.6673 - accuracy: 0.7961\n",
      "72/72 [==============================] - 0s 764us/step - loss: 0.6687 - accuracy: 0.7939\n",
      "72/72 [==============================] - 0s 792us/step - loss: 0.6735 - accuracy: 0.7917\n",
      "72/72 [==============================] - 0s 792us/step - loss: 0.6780 - accuracy: 0.7937\n",
      "72/72 [==============================] - 0s 6ms/step - loss: 0.6778 - accuracy: 0.7928\n",
      "72/72 [==============================] - 0s 792us/step - loss: 0.6793 - accuracy: 0.7910\n",
      "72/72 [==============================] - 0s 820us/step - loss: 0.6806 - accuracy: 0.7907\n",
      "72/72 [==============================] - 0s 806us/step - loss: 0.6781 - accuracy: 0.7883\n",
      "72/72 [==============================] - 0s 889us/step - loss: 0.6737 - accuracy: 0.7944\n",
      "72/72 [==============================] - 0s 781us/step - loss: 0.6738 - accuracy: 0.7969\n",
      "72/72 [==============================] - 0s 778us/step - loss: 0.6794 - accuracy: 0.7910\n",
      "72/72 [==============================] - 0s 764us/step - loss: 0.6788 - accuracy: 0.7892\n",
      "72/72 [==============================] - 0s 806us/step - loss: 0.6787 - accuracy: 0.7886\n",
      "72/72 [==============================] - 0s 917us/step - loss: 0.6734 - accuracy: 0.7904\n",
      "72/72 [==============================] - 0s 806us/step - loss: 0.6746 - accuracy: 0.7903\n",
      "72/72 [==============================] - 0s 778us/step - loss: 0.6726 - accuracy: 0.7911\n",
      "72/72 [==============================] - 0s 764us/step - loss: 0.6733 - accuracy: 0.7917\n",
      "72/72 [==============================] - 0s 778us/step - loss: 0.6732 - accuracy: 0.7906\n",
      "72/72 [==============================] - 0s 778us/step - loss: 0.6734 - accuracy: 0.7918\n",
      "72/72 [==============================] - 0s 820us/step - loss: 0.6728 - accuracy: 0.7926\n",
      "72/72 [==============================] - 0s 792us/step - loss: 0.6753 - accuracy: 0.7912\n",
      "72/72 [==============================] - 0s 792us/step - loss: 0.6745 - accuracy: 0.7901\n",
      "72/72 [==============================] - 0s 792us/step - loss: 0.6730 - accuracy: 0.7914\n",
      "72/72 [==============================] - 0s 764us/step - loss: 0.6735 - accuracy: 0.7971\n",
      "72/72 [==============================] - 0s 764us/step - loss: 0.6770 - accuracy: 0.7958\n",
      "72/72 [==============================] - 0s 820us/step - loss: 0.6791 - accuracy: 0.7903\n",
      "72/72 [==============================] - 0s 792us/step - loss: 0.6752 - accuracy: 0.7975\n",
      "72/72 [==============================] - 0s 792us/step - loss: 0.6795 - accuracy: 0.7842\n",
      "72/72 [==============================] - 0s 806us/step - loss: 0.6770 - accuracy: 0.7944\n",
      "72/72 [==============================] - 0s 778us/step - loss: 0.6795 - accuracy: 0.7897\n",
      "72/72 [==============================] - 0s 903us/step - loss: 0.6746 - accuracy: 0.7954\n",
      "72/72 [==============================] - 0s 861us/step - loss: 0.6747 - accuracy: 0.7950\n",
      "72/72 [==============================] - 0s 820us/step - loss: 0.6806 - accuracy: 0.7874\n",
      "72/72 [==============================] - 0s 833us/step - loss: 0.6757 - accuracy: 0.7939\n",
      "72/72 [==============================] - 0s 792us/step - loss: 0.6788 - accuracy: 0.7883\n",
      "72/72 [==============================] - 0s 792us/step - loss: 0.6758 - accuracy: 0.7910\n",
      " 1/72 [..............................] - ETA: 0s - loss: 0.6932 - accuracy: 0.2800WARNING:tensorflow:Callbacks method `on_train_batch_end` is slow compared to the batch time (batch time: 0.0000s vs `on_train_batch_end` time: 0.0010s). Check your callbacks.\n",
      "72/72 [==============================] - 0s 875us/step - loss: 0.6760 - accuracy: 0.7892\n",
      "72/72 [==============================] - 0s 806us/step - loss: 0.6725 - accuracy: 0.7894\n",
      "72/72 [==============================] - 0s 806us/step - loss: 0.6713 - accuracy: 0.7904\n",
      "72/72 [==============================] - 0s 792us/step - loss: 0.6760 - accuracy: 0.7889\n",
      "72/72 [==============================] - 0s 750us/step - loss: 0.6731 - accuracy: 0.7903\n",
      "72/72 [==============================] - 0s 764us/step - loss: 0.6674 - accuracy: 0.7944\n",
      "72/72 [==============================] - 0s 792us/step - loss: 0.6688 - accuracy: 0.7950\n",
      "72/72 [==============================] - 0s 792us/step - loss: 0.6789 - accuracy: 0.7904\n",
      "72/72 [==============================] - 0s 778us/step - loss: 0.6781 - accuracy: 0.7937\n",
      "72/72 [==============================] - 0s 875us/step - loss: 0.6785 - accuracy: 0.7935\n",
      "72/72 [==============================] - 0s 820us/step - loss: 0.6762 - accuracy: 0.7969\n",
      "72/72 [==============================] - 0s 792us/step - loss: 0.6757 - accuracy: 0.7940\n",
      "72/72 [==============================] - 0s 806us/step - loss: 0.6759 - accuracy: 0.7918\n",
      "72/72 [==============================] - 0s 792us/step - loss: 0.6754 - accuracy: 0.7943\n",
      "72/72 [==============================] - 0s 847us/step - loss: 0.6798 - accuracy: 0.7874\n",
      "72/72 [==============================] - 0s 792us/step - loss: 0.6786 - accuracy: 0.7922\n",
      "72/72 [==============================] - 0s 806us/step - loss: 0.6772 - accuracy: 0.7944\n",
      "72/72 [==============================] - 0s 820us/step - loss: 0.6667 - accuracy: 0.7961\n",
      "72/72 [==============================] - 0s 917us/step - loss: 0.6717 - accuracy: 0.7932\n",
      "72/72 [==============================] - 0s 778us/step - loss: 0.6673 - accuracy: 0.7947\n",
      "72/72 [==============================] - 0s 917us/step - loss: 0.6788 - accuracy: 0.7882\n",
      "72/72 [==============================] - 0s 806us/step - loss: 0.6687 - accuracy: 0.7925\n",
      "72/72 [==============================] - 0s 819us/step - loss: 0.6726 - accuracy: 0.7896\n",
      "72/72 [==============================] - 0s 833us/step - loss: 0.6712 - accuracy: 0.7936\n",
      "72/72 [==============================] - 0s 778us/step - loss: 0.6696 - accuracy: 0.7949\n",
      "72/72 [==============================] - 0s 945us/step - loss: 0.6712 - accuracy: 0.7942\n",
      "72/72 [==============================] - 0s 764us/step - loss: 0.6753 - accuracy: 0.7917\n",
      "800/800 [==============================] - 1s 719us/step - loss: 0.4829 - accuracy: 0.7952\n"
     ]
    }
   ],
   "source": [
    "grid_search = grid_search.fit(X_train, y_train)"
   ]
  },
  {
   "cell_type": "code",
   "execution_count": 41,
   "metadata": {},
   "outputs": [
    {
     "data": {
      "text/plain": [
       "{'batch_size': 10, 'nb_epoch': 50, 'optimizer': 'adam'}"
      ]
     },
     "execution_count": 41,
     "metadata": {},
     "output_type": "execute_result"
    }
   ],
   "source": [
    "best_parameters = grid_search.best_params_\n",
    "best_parameters"
   ]
  },
  {
   "cell_type": "code",
   "execution_count": 42,
   "metadata": {},
   "outputs": [
    {
     "data": {
      "text/plain": [
       "0.8019999999999999"
      ]
     },
     "execution_count": 42,
     "metadata": {},
     "output_type": "execute_result"
    }
   ],
   "source": [
    "best_score = grid_search.best_score_\n",
    "best_score"
   ]
  }
 ],
 "metadata": {
  "kernelspec": {
   "display_name": "Python 3",
   "language": "python",
   "name": "python3"
  },
  "language_info": {
   "codemirror_mode": {
    "name": "ipython",
    "version": 3
   },
   "file_extension": ".py",
   "mimetype": "text/x-python",
   "name": "python",
   "nbconvert_exporter": "python",
   "pygments_lexer": "ipython3",
   "version": "3.8.4"
  }
 },
 "nbformat": 4,
 "nbformat_minor": 4
}
